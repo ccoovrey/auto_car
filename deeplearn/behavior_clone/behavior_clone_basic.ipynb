{
 "cells": [
  {
   "cell_type": "markdown",
   "metadata": {},
   "source": [
    "# Behavior Clone Project\n",
    "Basic NN model that flattens into an output. We are using one lap of data, where driver tries to stay in the middle of the road. No data augmentation or processing. \n",
    "\n",
    "When I used the trained model, the car drives in a left circle. This behavior could be because track one mostly curves to the left. A video of this behavior is found in 'experiment_videos/basic_nn.mp4'."
   ]
  },
  {
   "cell_type": "code",
   "execution_count": 1,
   "metadata": {
    "collapsed": true
   },
   "outputs": [],
   "source": [
    "# load data from csv\n",
    "import csv\n",
    "import cv2\n",
    "import numpy as np\n",
    "\n",
    "lines = []\n",
    "with open('../../../data/bc_one_lap/driving_log.csv') as csvfile:\n",
    "    rd = csv.reader(csvfile)\n",
    "    for line in rd:\n",
    "        lines.append(line)\n",
    "        \n",
    "images = []\n",
    "measurements = []\n",
    "# update path \n",
    "for line in lines:\n",
    "    source_path = line[0]\n",
    "    # split using final token\n",
    "    filename = source_path.split('/')[-1]\n",
    "    current_path = '../../../data/bc_one_lap/IMG/' + filename\n",
    "    # use opencv to load the image\n",
    "    image = cv2.imread(current_path)\n",
    "    # append to list of images\n",
    "    images.append(image)\n",
    "    # this is the steering measurement\n",
    "    measurement = float(line[3])\n",
    "    measurements.append(measurement)\n",
    "    \n",
    "# now convert to numpy arrays for keras\n",
    "X_train = np.array(images)\n",
    "y_train = np.array(measurements)"
   ]
  },
  {
   "cell_type": "code",
   "execution_count": 4,
   "metadata": {},
   "outputs": [
    {
     "name": "stderr",
     "output_type": "stream",
     "text": [
      "Using TensorFlow backend.\n"
     ]
    },
    {
     "name": "stdout",
     "output_type": "stream",
     "text": [
      "Train on 1188 samples, validate on 298 samples\n",
      "Epoch 1/10\n",
      "1188/1188 [==============================] - 0s - loss: 45745205.3939 - val_loss: 5465718.0805\n",
      "Epoch 2/10\n",
      "1188/1188 [==============================] - 0s - loss: 936785.4826 - val_loss: 68828.5963\n",
      "Epoch 3/10\n",
      "1188/1188 [==============================] - 0s - loss: 31791.9074 - val_loss: 7651.1399\n",
      "Epoch 4/10\n",
      "1188/1188 [==============================] - 0s - loss: 10272.7140 - val_loss: 3938.1797\n",
      "Epoch 5/10\n",
      "1188/1188 [==============================] - 0s - loss: 7247.9513 - val_loss: 3359.0532\n",
      "Epoch 6/10\n",
      "1188/1188 [==============================] - 0s - loss: 7525.0461 - val_loss: 2427.2559\n",
      "Epoch 7/10\n",
      "1188/1188 [==============================] - 0s - loss: 5025.2136 - val_loss: 2542.3581\n",
      "Epoch 8/10\n",
      "1188/1188 [==============================] - 0s - loss: 4334.0652 - val_loss: 1877.3593\n",
      "Epoch 9/10\n",
      "1188/1188 [==============================] - 0s - loss: 4037.6263 - val_loss: 6346.0622\n",
      "Epoch 10/10\n",
      "1188/1188 [==============================] - 0s - loss: 3812.6159 - val_loss: 4117.3233386\n"
     ]
    },
    {
     "data": {
      "text/plain": [
       "<keras.callbacks.History at 0x7effc46c7be0>"
      ]
     },
     "execution_count": 4,
     "metadata": {},
     "output_type": "execute_result"
    }
   ],
   "source": [
    "from keras.models import Sequential\n",
    "from keras.layers import Flatten, Dense\n",
    "\n",
    "# most basic NN model\n",
    "model = Sequential()\n",
    "model.add(Flatten(input_shape=(160,320,3)))\n",
    "model.add(Dense(1))\n",
    "\n",
    "model.compile(loss='mse', optimizer='adam')\n",
    "model.fit(X_train, y_train, validation_split=0.2,\n",
    "          shuffle=True)\n"
   ]
  },
  {
   "cell_type": "code",
   "execution_count": 5,
   "metadata": {
    "collapsed": true
   },
   "outputs": [],
   "source": [
    "model.save('model.h5')"
   ]
  }
 ],
 "metadata": {
  "kernelspec": {
   "display_name": "Python 3",
   "language": "python",
   "name": "python3"
  },
  "language_info": {
   "codemirror_mode": {
    "name": "ipython",
    "version": 3
   },
   "file_extension": ".py",
   "mimetype": "text/x-python",
   "name": "python",
   "nbconvert_exporter": "python",
   "pygments_lexer": "ipython3",
   "version": "3.5.2"
  },
  "widgets": {
   "state": {},
   "version": "1.1.2"
  }
 },
 "nbformat": 4,
 "nbformat_minor": 2
}
