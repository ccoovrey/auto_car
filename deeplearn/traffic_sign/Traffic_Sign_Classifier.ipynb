{
 "cells": [
  {
   "cell_type": "markdown",
   "metadata": {},
   "source": [
    "# Self-Driving Car Engineer Nanodegree\n",
    "\n",
    "## Deep Learning\n",
    "\n",
    "## Project: Build a Traffic Sign Recognition Classifier\n",
    "\n",
    "In this notebook, a template is provided for you to implement your functionality in stages, which is required to successfully complete this project. If additional code is required that cannot be included in the notebook, be sure that the Python code is successfully imported and included in your submission if necessary. \n",
    "\n",
    "> **Note**: Once you have completed all of the code implementations, you need to finalize your work by exporting the iPython Notebook as an HTML document. Before exporting the notebook to html, all of the code cells need to have been run so that reviewers can see the final implementation and output. You can then export the notebook by using the menu above and navigating to  \\n\",\n",
    "    \"**File -> Download as -> HTML (.html)**. Include the finished document along with this notebook as your submission. \n",
    "\n",
    "In addition to implementing code, there is a writeup to complete. The writeup should be completed in a separate file, which can be either a markdown file or a pdf document. There is a [write up template](https://github.com/udacity/CarND-Traffic-Sign-Classifier-Project/blob/master/writeup_template.md) that can be used to guide the writing process. Completing the code template and writeup template will cover all of the [rubric points](https://review.udacity.com/#!/rubrics/481/view) for this project.\n",
    "\n",
    "The [rubric](https://review.udacity.com/#!/rubrics/481/view) contains \"Stand Out Suggestions\" for enhancing the project beyond the minimum requirements. The stand out suggestions are optional. If you decide to pursue the \"stand out suggestions\", you can include the code in this Ipython notebook and also discuss the results in the writeup file.\n",
    "\n",
    "\n",
    ">**Note:** Code and Markdown cells can be executed using the **Shift + Enter** keyboard shortcut. In addition, Markdown cells can be edited by typically double-clicking the cell to enter edit mode."
   ]
  },
  {
   "cell_type": "markdown",
   "metadata": {},
   "source": [
    "---\n",
    "## Step 0: Load The Data"
   ]
  },
  {
   "cell_type": "code",
   "execution_count": 19,
   "metadata": {
    "collapsed": true
   },
   "outputs": [],
   "source": [
    "# Load pickled data\n",
    "import pickle\n",
    "\n",
    "# TODO: Fill this in based on where you saved the training and testing data\n",
    "\n",
    "training_file = '../../../data/train.p'\n",
    "validation_file= '../../../data/valid.p'\n",
    "testing_file =  '../../../data/test.p'\n",
    "\n",
    "with open(training_file, mode='rb') as f:\n",
    "    train = pickle.load(f)\n",
    "with open(validation_file, mode='rb') as f:\n",
    "    valid = pickle.load(f)\n",
    "with open(testing_file, mode='rb') as f:\n",
    "    test = pickle.load(f)\n",
    "    \n",
    "X_train, y_train = train['features'], train['labels']\n",
    "X_valid, y_valid = valid['features'], valid['labels']\n",
    "X_test, y_test = test['features'], test['labels']"
   ]
  },
  {
   "cell_type": "markdown",
   "metadata": {},
   "source": [
    "---\n",
    "\n",
    "## Step 1: Dataset Summary & Exploration\n",
    "\n",
    "The pickled data is a dictionary with 4 key/value pairs:\n",
    "\n",
    "- `'features'` is a 4D array containing raw pixel data of the traffic sign images, (num examples, width, height, channels).\n",
    "- `'labels'` is a 1D array containing the label/class id of the traffic sign. The file `signnames.csv` contains id -> name mappings for each id.\n",
    "- `'sizes'` is a list containing tuples, (width, height) representing the original width and height the image.\n",
    "- `'coords'` is a list containing tuples, (x1, y1, x2, y2) representing coordinates of a bounding box around the sign in the image. **THESE COORDINATES ASSUME THE ORIGINAL IMAGE. THE PICKLED DATA CONTAINS RESIZED VERSIONS (32 by 32) OF THESE IMAGES**\n",
    "\n",
    "Complete the basic data summary below. Use python, numpy and/or pandas methods to calculate the data summary rather than hard coding the results. For example, the [pandas shape method](http://pandas.pydata.org/pandas-docs/stable/generated/pandas.DataFrame.shape.html) might be useful for calculating some of the summary results. "
   ]
  },
  {
   "cell_type": "markdown",
   "metadata": {},
   "source": [
    "### Provide a Basic Summary of the Data Set Using Python, Numpy and/or Pandas"
   ]
  },
  {
   "cell_type": "code",
   "execution_count": 20,
   "metadata": {},
   "outputs": [
    {
     "name": "stdout",
     "output_type": "stream",
     "text": [
      "Number of training examples = 34799\n",
      "Number of testing examples = 12630\n",
      "Image data shape = (32, 32, 3)\n",
      "Number of classes = 43\n"
     ]
    }
   ],
   "source": [
    "### Replace each question mark with the appropriate value. \n",
    "### Use python, pandas or numpy methods rather than hard coding the results\n",
    "import numpy as np\n",
    "import pandas as pd\n",
    "\n",
    "X_train_np = np.array(X_train)\n",
    "X_valid_np = np.array(X_valid)\n",
    "X_test_np = np.array(X_test)\n",
    "\n",
    "# TODO: Number of training examples\n",
    "n_train = X_train_np.shape[0]\n",
    "\n",
    "# TODO: Number of validation examples\n",
    "n_validation = X_valid_np.shape[0]\n",
    "\n",
    "# TODO: Number of testing examples.\n",
    "n_test = X_test_np.shape[0]\n",
    "\n",
    "# TODO: What's the shape of an traffic sign image?\n",
    "image_shape = X_train_np.shape[1:]\n",
    "\n",
    "# TODO: How many unique classes/labels there are in the dataset.\n",
    "df = pd.DataFrame(train['labels'],\n",
    "                  columns=['label'])\n",
    "\n",
    "n_classes = len(df['label'].unique())\n",
    "\n",
    "print(\"Number of training examples =\", n_train)\n",
    "print(\"Number of testing examples =\", n_test)\n",
    "print(\"Image data shape =\", image_shape)\n",
    "print(\"Number of classes =\", n_classes)"
   ]
  },
  {
   "cell_type": "markdown",
   "metadata": {},
   "source": [
    "### Include an exploratory visualization of the dataset"
   ]
  },
  {
   "cell_type": "markdown",
   "metadata": {},
   "source": [
    "Visualize the German Traffic Signs Dataset using the pickled file(s). This is open ended, suggestions include: plotting traffic sign images, plotting the count of each sign, etc. \n",
    "\n",
    "The [Matplotlib](http://matplotlib.org/) [examples](http://matplotlib.org/examples/index.html) and [gallery](http://matplotlib.org/gallery.html) pages are a great resource for doing visualizations in Python.\n",
    "\n",
    "**NOTE:** It's recommended you start with something simple first. If you wish to do more, come back to it after you've completed the rest of the sections. It can be interesting to look at the distribution of classes in the training, validation and test set. Is the distribution the same? Are there more examples of some classes than others?"
   ]
  },
  {
   "cell_type": "code",
   "execution_count": 21,
   "metadata": {},
   "outputs": [
    {
     "name": "stdout",
     "output_type": "stream",
     "text": [
      "Random German Traffic Sign Image:\n",
      "\n"
     ]
    },
    {
     "data": {
      "image/png": "[encoded data removed]",
      "text/plain": [
       "<matplotlib.figure.Figure at 0x7ff90f886518>"
      ]
     },
     "metadata": {},
     "output_type": "display_data"
    },
    {
     "name": "stdout",
     "output_type": "stream",
     "text": [
      "\n"
     ]
    },
    {
     "data": {
      "image/png": "[encoded data removed]",
      "text/plain": [
       "<matplotlib.figure.Figure at 0x7ff8fd94ada0>"
      ]
     },
     "metadata": {},
     "output_type": "display_data"
    }
   ],
   "source": [
    "### Data exploration visualization code goes here.\n",
    "### Feel free to use as many code cells as needed.\n",
    "import random\n",
    "import matplotlib.pyplot as plt\n",
    "# Visualizations will be shown in the notebook.\n",
    "%matplotlib inline\n",
    "\n",
    "index = random.randint(0, n_train)\n",
    "image = X_train_np[index].squeeze()\n",
    "\n",
    "#plt.figure(1, figsize=(5,5))\n",
    "print('Random German Traffic Sign Image:')\n",
    "print('')\n",
    "plt.figure(figsize=(2,2))\n",
    "ax = plt.subplot(111)\n",
    "ax.set_title('label: '+str(train['labels'][index]))\n",
    "ax.imshow(image, cmap='gray')\n",
    "plt.show()\n",
    "print('')\n",
    "plt.figure()\n",
    "ax = plt.subplot(111)\n",
    "ax.set_title('ScatterPlot of label training observations')\n",
    "plt.scatter(df['label'].unique(), df['label'].value_counts())\n",
    "ax.set_xlabel('Labels')\n",
    "ax.set_ylabel('Observations')\n",
    "plt.show()"
   ]
  },
  {
   "cell_type": "markdown",
   "metadata": {},
   "source": [
    "----\n",
    "\n",
    "## Step 2: Design and Test a Model Architecture\n",
    "\n",
    "Design and implement a deep learning model that learns to recognize traffic signs. Train and test your model on the [German Traffic Sign Dataset](http://benchmark.ini.rub.de/?section=gtsrb&subsection=dataset).\n",
    "\n",
    "The LeNet-5 implementation shown in the [classroom](https://classroom.udacity.com/nanodegrees/nd013/parts/fbf77062-5703-404e-b60c-95b78b2f3f9e/modules/6df7ae49-c61c-4bb2-a23e-6527e69209ec/lessons/601ae704-1035-4287-8b11-e2c2716217ad/concepts/d4aca031-508f-4e0b-b493-e7b706120f81) at the end of the CNN lesson is a solid starting point. You'll have to change the number of classes and possibly the preprocessing, but aside from that it's plug and play! \n",
    "\n",
    "With the LeNet-5 solution from the lecture, you should expect a validation set accuracy of about 0.89. To meet specifications, the validation set accuracy will need to be at least 0.93. It is possible to get an even higher accuracy, but 0.93 is the minimum for a successful project submission. \n",
    "\n",
    "There are various aspects to consider when thinking about this problem:\n",
    "\n",
    "- Neural network architecture (is the network over or underfitting?)\n",
    "- Play around preprocessing techniques (normalization, rgb to grayscale, etc)\n",
    "- Number of examples per label (some have more than others).\n",
    "- Generate fake data.\n",
    "\n",
    "Here is an example of a [published baseline model on this problem](http://yann.lecun.com/exdb/publis/pdf/sermanet-ijcnn-11.pdf). It's not required to be familiar with the approach used in the paper but, it's good practice to try to read papers like these."
   ]
  },
  {
   "cell_type": "markdown",
   "metadata": {},
   "source": [
    "### Pre-process the Data Set (normalization, grayscale, etc.)"
   ]
  },
  {
   "cell_type": "markdown",
   "metadata": {},
   "source": [
    "Minimally, the image data should be normalized so that the data has mean zero and equal variance. For image data, `(pixel - 128)/ 128` is a quick way to approximately normalize the data and can be used in this project. \n",
    "\n",
    "Other pre-processing steps are optional. You can try different techniques to see if it improves performance. \n",
    "\n",
    "Use the code cell (or multiple code cells, if necessary) to implement the first step of your project."
   ]
  },
  {
   "cell_type": "code",
   "execution_count": 22,
   "metadata": {
    "collapsed": true
   },
   "outputs": [],
   "source": [
    "### Data exploration visualization code goes here.\n",
    "### Feel free to use as many code cells as needed.\n",
    "import matplotlib.pyplot as plt\n",
    "# Visualizations will be shown in the notebook.\n",
    "%matplotlib inline\n",
    "\n",
    "import matplotlib.image as mpimg\n",
    "import random\n",
    "import cv2\n",
    "\n",
    "def display_sample_images(X_data, y_data, i_start='random') :\n",
    "    \"\"\"\n",
    "    Displays images from each class\n",
    "    \"\"\"\n",
    "    img_index = split_by_class(y_data)\n",
    "    labels = list(set(y_data))[::-1]\n",
    "    fig, axes = plt.subplots(3, 15, figsize=(15, 3))\n",
    "    for ax in axes.flatten() :\n",
    "        if labels : \n",
    "            i_img=0\n",
    "            if i_start == 'random':\n",
    "                i_img = random.choice(img_index[labels.pop()])  \n",
    "            else : \n",
    "                i_img = img_index[labels.pop()][i_start]\n",
    "            ax.imshow(X_train[i_img])\n",
    "        ax.axis('off')\n",
    "\n",
    "def split_by_class(y_data) :\n",
    "    \"\"\"\n",
    "    Returns a dictionary: keys = class labels, \n",
    "    key values = list indices of class labels \n",
    "    \"\"\"\n",
    "    img_index = {}\n",
    "    labels = set(y_data)\n",
    "    for i,y in enumerate(y_data) :\n",
    "        if y not in img_index.keys() :\n",
    "            img_index[y] = [i]\n",
    "        else :\n",
    "            img_index[y].append(i)\n",
    "    return img_index"
   ]
  },
  {
   "cell_type": "code",
   "execution_count": 23,
   "metadata": {},
   "outputs": [
    {
     "data": {
      "text/plain": [
       "\"\\n# YUV normalized (Y channel) \\nax[2].imshow(YUV_norm(img)[:,:,0])\\nax[2].set_title('Y of YUV')\\n# YUV normalized (U channel) \\nax[3].imshow(YUV_norm(img)[:,:,1])\\nax[3].set_title('U of YUV')\\n# YUV normalized (V channel) \\nax[4].imshow(YUV_norm(img)[:,:,2])\\nax[4].set_title('V of YUV')\\n# Contrast normalized \\nax[5].imshow(contrast_norm(img))\\nax[5].set_title('Contrast norm.')\\n\""
      ]
     },
     "execution_count": 23,
     "metadata": {},
     "output_type": "execute_result"
    },
    {
     "data": {
      "image/png": "[encoded data removed]",
      "text/plain": [
       "<matplotlib.figure.Figure at 0x7ff924cf7c50>"
      ]
     },
     "metadata": {},
     "output_type": "display_data"
    }
   ],
   "source": [
    "### Preprocess the data here. Preprocessing steps could include normalization, converting to grayscale, etc.\n",
    "### Feel free to use as many code cells as needed.\n",
    "\n",
    "import random\n",
    "from sklearn.utils import shuffle\n",
    "\n",
    "def MinMaxNorm(image, a=-.5, b=.5) :\n",
    "    Xmin, Xmax = np.min(image), np.max(image)\n",
    "    return (image-Xmin)*(b-a)/(Xmax-Xmin)\n",
    "\n",
    "def AbsNorm(image, a=-.5, b=0.5, col_min=0, col_max=255) :\n",
    "    return (image-col_min)*(b-a)/(col_max-col_min)\n",
    "\n",
    "def grayscale_norm(image) :\n",
    "    # convert to grayscale \n",
    "    img = cv2.cvtColor(image, cv2.COLOR_BGR2GRAY)\n",
    "    return MinMaxNorm(img)\n",
    "'''\n",
    "def YUV_norm(image) :\n",
    "    # convert to YUV color space\n",
    "    new_image = cv2.cvtColor(image, cv2.COLOR_BGR2YUV)\n",
    "    # normalize the Y channel\n",
    "    [y,u,v] = [new_image[:,:,i] for i in range(3)]\n",
    "    new_image = np.zeros(image.shape)\n",
    "    new_image[:,:,0] = MinMaxNorm(y)\n",
    "    new_image[:,:,1],new_image[:,:,2] = AbsNorm(u), AbsNorm(v)\n",
    "    return new_image\n",
    "'''\n",
    "def contrast_norm(image) :\n",
    "    # convert to  lab colorspace\n",
    "    lab= cv2.cvtColor(image, cv2.COLOR_BGR2LAB)\n",
    "    # apply adative histogram equalization \n",
    "    l = lab[:,:,0]\n",
    "    clahe = cv2.createCLAHE(clipLimit=5.0, tileGridSize=(4,4))\n",
    "    cl = clahe.apply(l)\n",
    "    lab[:,:,0] = cl\n",
    "    # convert back to RGB and scale values \n",
    "    img =  cv2.cvtColor(lab, cv2.COLOR_LAB2BGR)\n",
    "    new_img = np.zeros(image.shape)\n",
    "    for i in range(3) :\n",
    "        new_img[:,:,i] = AbsNorm(img[:,:,i])\n",
    "    return new_img\n",
    "\n",
    "img_index = split_by_class(y_train)\n",
    "img = X_train[img_index[30][20]]\n",
    "fig, ax = plt.subplots(1,4, figsize=(15,3))\n",
    "for axes in ax :\n",
    "    axes.axis('off')\n",
    "# original image\n",
    "ax[0].imshow(img)\n",
    "ax[0].set_title('Original')\n",
    "# grayscale normalized \n",
    "ax[1].imshow(grayscale_norm(img), cmap='gray')\n",
    "ax[1].set_title('Gray scale')\n",
    "# absnorm\n",
    "ax[2].imshow(AbsNorm(img))\n",
    "ax[2].set_title('Abs Norm')\n",
    "# Contrast normalized \n",
    "ax[3].imshow(contrast_norm(img))\n",
    "ax[3].set_title('Contrast norm.')\n",
    "'''\n",
    "# YUV normalized (Y channel) \n",
    "ax[2].imshow(YUV_norm(img)[:,:,0])\n",
    "ax[2].set_title('Y of YUV')\n",
    "# YUV normalized (U channel) \n",
    "ax[3].imshow(YUV_norm(img)[:,:,1])\n",
    "ax[3].set_title('U of YUV')\n",
    "# YUV normalized (V channel) \n",
    "ax[4].imshow(YUV_norm(img)[:,:,2])\n",
    "ax[4].set_title('V of YUV')\n",
    "# Contrast normalized \n",
    "ax[5].imshow(contrast_norm(img))\n",
    "ax[5].set_title('Contrast norm.')\n",
    "'''"
   ]
  },
  {
   "cell_type": "code",
   "execution_count": 24,
   "metadata": {},
   "outputs": [
    {
     "data": {
      "image/png": "[encoded data removed]",
      "text/plain": [
       "<matplotlib.figure.Figure at 0x7ff8fdc36c88>"
      ]
     },
     "metadata": {},
     "output_type": "display_data"
    }
   ],
   "source": [
    "# geometric transformations\n",
    "\n",
    "# scaling\n",
    "def scale(img, x_scale=0.85, y_scale=1.15) :\n",
    "    r,c = img.shape[:-1]\n",
    "    scaled_img = cv2.resize(img,None,fx=x_scale,fy=y_scale)\n",
    "    new_img = cv2.copyMakeBorder(scaled_img,5,5,5,5,cv2.BORDER_REPLICATE)\n",
    "    rows,cols = new_img.shape[:-1]\n",
    "    r0,c0 = round((rows-r)/2), round((cols-c)/2)\n",
    "    return new_img[r0:r0+r, c0:c0+c]\n",
    "    \n",
    "# translation\n",
    "def translate(img, delta_x=2, delta_y=-2):\n",
    "    r,c = img.shape[:-1]\n",
    "    new_img = cv2.copyMakeBorder(img,5,5,5,5,cv2.BORDER_REPLICATE)\n",
    "    rows,cols = new_img.shape[:-1]\n",
    "    r0,c0 = round((rows-r)/2)+delta_y, round((cols-c)/2)-delta_x\n",
    "    return new_img[r0:r0+r, c0:c0+c]\n",
    "\n",
    "# rotation\n",
    "def rotate(img, theta=18):\n",
    "    r,c = img.shape[:-1]\n",
    "    new_img = cv2.copyMakeBorder(img,5,5,5,5,cv2.BORDER_REPLICATE)\n",
    "    rows,cols = new_img.shape[:-1]\n",
    "    M = cv2.getRotationMatrix2D((cols/2,rows/2),theta,1)\n",
    "    new_img = cv2.warpAffine(new_img,M,(cols,rows))\n",
    "    r0,c0 = round((rows-r)/2), round((cols-c)/2)\n",
    "    return new_img[r0:r0+r, c0:c0+c]\n",
    "\n",
    "# example of translation\n",
    "img = X_train[img_index[14][200]]\n",
    "def original(img) : return img\n",
    "fig, ax = plt.subplots(1,4, figsize=(6,2))\n",
    "#for i,transform in enumerate([original, scale, translate, rotate]) :\n",
    "for i,transform in enumerate([original, rotate, translate, scale]) :\n",
    "    ax[i].imshow(transform(img))\n",
    "    ax[i].axis('off')\n",
    "    ax[i].set_title(transform.__name__)"
   ]
  },
  {
   "cell_type": "code",
   "execution_count": 25,
   "metadata": {},
   "outputs": [
    {
     "data": {
      "image/png": "[encoded data removed]",
      "text/plain": [
       "<matplotlib.figure.Figure at 0x7ff8fded68d0>"
      ]
     },
     "metadata": {},
     "output_type": "display_data"
    }
   ],
   "source": [
    "# implement random transforms\n",
    "random_scale = lambda img : scale(img, x_scale=random.uniform(0.85,1.1), y_scale=random.uniform(0.85,1.1))\n",
    "random_translate = lambda img : translate(img, delta_x=random.randint(-2,2), delta_y=random.randint(-2,2))\n",
    "random_rotate = lambda img : rotate(img, theta=random.uniform(-17.,17.))\n",
    "\n",
    "def random_transform(img) :\n",
    "    new_img = img\n",
    "    transform_list = [random_scale, random_translate, random_rotate]\n",
    "    random.shuffle(transform_list)\n",
    "    for transform in transform_list :\n",
    "        new_img = transform(new_img)\n",
    "    return new_img\n",
    "\n",
    "# check\n",
    "#img = X_train[img_index[21][10]]\n",
    "img = X_train[img_index[21][5]]\n",
    "fig, ax = plt.subplots(1,5, figsize=(15,2))\n",
    "for i in range(5) :\n",
    "    ax[i].imshow(random_transform(img))\n",
    "    ax[i].axis('off')"
   ]
  },
  {
   "cell_type": "code",
   "execution_count": 26,
   "metadata": {
    "collapsed": true
   },
   "outputs": [],
   "source": [
    "from tqdm import tqdm\n",
    "\n",
    "def split_change_data(X_data, y_data):\n",
    "#def perturb_data(X_data, y_data):\n",
    "    \"\"\"\n",
    "    splits dataset: half original, half changed \n",
    "    \"\"\"\n",
    "    X_old, y_old = [], []\n",
    "    X_new, y_new = [], []\n",
    "    images_pbar = tqdm(X_data, unit='images', desc='Original data')\n",
    "    for i,img in enumerate(images_pbar) :\n",
    "        if i%2 == 0 : \n",
    "            X_old.append(img) \n",
    "            y_old.append(y_data[i])\n",
    "        else :\n",
    "            X_new.append(random_transform(img))\n",
    "            y_new.append(y_data[i])\n",
    "    return (np.array(X_old), np.array(y_old), \n",
    "            np.array(X_new), np.array(y_new))\n",
    "        \n",
    "\n",
    "def augment_data(X_data, y_data, n=300):\n",
    "    \"\"\"\n",
    "    augments dataset so n images per class\n",
    "    \"\"\"\n",
    "    X_data_fake, y_data_fake = [],[]\n",
    "    img_index = split_by_class(y_data)\n",
    "    labels_pbar = tqdm(range(n_classes), unit='class', desc='Data Augment')\n",
    "    for label in labels_pbar:\n",
    "        n_fake = n-len(img_index[label])\n",
    "        if n_fake <= 0 : continue\n",
    "        for i in range(n_fake):\n",
    "            i_img = random.choice(img_index[label])\n",
    "            img = X_data[i_img]\n",
    "            X_data_fake.append(random_transform(img))\n",
    "            y_data_fake.append(label)\n",
    "    return np.array(X_data_fake),np.array(y_data_fake)"
   ]
  },
  {
   "cell_type": "code",
   "execution_count": 27,
   "metadata": {},
   "outputs": [
    {
     "name": "stdout",
     "output_type": "stream",
     "text": [
      "Training dataset augmentation\n"
     ]
    },
    {
     "name": "stderr",
     "output_type": "stream",
     "text": [
      "\n",
      "Original data:   0%|          | 0/34799 [00:00<?, ?images/s]\u001b[A\n",
      "Original data:   8%|▊         | 2660/34799 [00:00<00:01, 26598.76images/s]\u001b[A\n",
      "Original data:  17%|█▋        | 6082/34799 [00:00<00:01, 28495.35images/s]\u001b[A\n",
      "Original data:  28%|██▊       | 9646/34799 [00:00<00:00, 30316.68images/s]\u001b[A\n",
      "Original data:  38%|███▊      | 13136/34799 [00:00<00:00, 31557.89images/s]\u001b[A\n",
      "Original data:  48%|████▊     | 16666/34799 [00:00<00:00, 32593.39images/s]\u001b[A\n",
      "Original data:  58%|█████▊    | 20210/34799 [00:00<00:00, 33393.14images/s]\u001b[A\n",
      "Original data:  68%|██████▊   | 23672/34799 [00:00<00:00, 33749.65images/s]\u001b[A\n",
      "Original data:  78%|███████▊  | 27143/34799 [00:00<00:00, 34032.04images/s]\u001b[A\n",
      "Original data:  88%|████████▊ | 30712/34799 [00:00<00:00, 34511.56images/s]\u001b[A\n",
      "Original data:  98%|█████████▊| 34228/34799 [00:01<00:00, 34699.26images/s]\u001b[A\n",
      "Original data: 100%|██████████| 34799/34799 [00:01<00:00, 34191.82images/s]\u001b[A\n",
      "Data Augment:   0%|          | 0/43 [00:00<?, ?class/s]\u001b[A\n",
      "Data Augment:   2%|▏         | 1/43 [00:00<00:12,  3.44class/s]\u001b[A\n",
      "Data Augment:   5%|▍         | 2/43 [00:00<00:10,  3.86class/s]\u001b[A\n",
      "Data Augment:   7%|▋         | 3/43 [00:00<00:09,  4.21class/s]\u001b[A\n",
      "Data Augment:   9%|▉         | 4/43 [00:00<00:09,  4.24class/s]\u001b[A\n",
      "Data Augment:  12%|█▏        | 5/43 [00:01<00:08,  4.48class/s]\u001b[A\n",
      "Data Augment:  14%|█▍        | 6/43 [00:01<00:08,  4.62class/s]\u001b[A\n",
      "Data Augment:  16%|█▋        | 7/43 [00:01<00:08,  4.24class/s]\u001b[A\n",
      "Data Augment:  19%|█▊        | 8/43 [00:01<00:08,  4.31class/s]\u001b[A\n",
      "Data Augment:  21%|██        | 9/43 [00:02<00:07,  4.35class/s]\u001b[A\n",
      "Data Augment:  23%|██▎       | 10/43 [00:02<00:07,  4.39class/s]\u001b[A\n",
      "Data Augment:  26%|██▌       | 11/43 [00:02<00:06,  4.61class/s]\u001b[A\n",
      "Data Augment:  28%|██▊       | 12/43 [00:02<00:06,  4.52class/s]\u001b[A\n",
      "Data Augment:  30%|███       | 13/43 [00:02<00:06,  4.74class/s]\u001b[A\n",
      "Data Augment:  33%|███▎      | 14/43 [00:03<00:05,  4.93class/s]\u001b[A\n",
      "Data Augment:  35%|███▍      | 15/43 [00:03<00:06,  4.54class/s]\u001b[A\n",
      "Data Augment:  37%|███▋      | 16/43 [00:03<00:06,  4.23class/s]\u001b[A\n",
      "Data Augment:  40%|███▉      | 17/43 [00:03<00:06,  3.99class/s]\u001b[A\n",
      "Data Augment:  42%|████▏     | 18/43 [00:04<00:06,  4.02class/s]\u001b[A\n",
      "Data Augment:  44%|████▍     | 19/43 [00:04<00:05,  4.03class/s]\u001b[A\n",
      "Data Augment:  47%|████▋     | 20/43 [00:04<00:05,  3.84class/s]\u001b[A\n",
      "Data Augment:  49%|████▉     | 21/43 [00:04<00:05,  3.74class/s]\u001b[A\n",
      "Data Augment:  51%|█████     | 22/43 [00:05<00:05,  3.67class/s]\u001b[A\n",
      "Data Augment:  53%|█████▎    | 23/43 [00:05<00:05,  3.64class/s]\u001b[A\n",
      "Data Augment:  56%|█████▌    | 24/43 [00:05<00:05,  3.64class/s]\u001b[A\n",
      "Data Augment:  58%|█████▊    | 25/43 [00:06<00:04,  3.61class/s]\u001b[A\n",
      "Data Augment:  60%|██████    | 26/43 [00:06<00:04,  3.84class/s]\u001b[A\n",
      "Data Augment:  63%|██████▎   | 27/43 [00:06<00:04,  3.76class/s]\u001b[A\n",
      "Data Augment:  65%|██████▌   | 28/43 [00:06<00:04,  3.63class/s]\u001b[A\n",
      "Data Augment:  67%|██████▋   | 29/43 [00:07<00:03,  3.61class/s]\u001b[A\n",
      "Data Augment:  70%|██████▉   | 30/43 [00:07<00:03,  3.55class/s]\u001b[A\n",
      "Data Augment:  72%|███████▏  | 31/43 [00:07<00:03,  3.47class/s]\u001b[A\n",
      "Data Augment:  74%|███████▍  | 32/43 [00:07<00:03,  3.51class/s]\u001b[A\n",
      "Data Augment:  77%|███████▋  | 33/43 [00:08<00:02,  3.47class/s]\u001b[A\n",
      "Data Augment:  79%|███████▉  | 34/43 [00:08<00:02,  3.48class/s]\u001b[A\n",
      "Data Augment:  81%|████████▏ | 35/43 [00:08<00:02,  3.44class/s]\u001b[A\n",
      "Data Augment:  84%|████████▎ | 36/43 [00:09<00:01,  3.61class/s]\u001b[A\n",
      "Data Augment:  86%|████████▌ | 37/43 [00:09<00:01,  3.56class/s]\u001b[A\n",
      "Data Augment:  88%|████████▊ | 38/43 [00:09<00:01,  3.44class/s]\u001b[A\n",
      "Data Augment:  91%|█████████ | 39/43 [00:09<00:01,  3.78class/s]\u001b[A\n",
      "Data Augment:  93%|█████████▎| 40/43 [00:10<00:00,  3.66class/s]\u001b[A\n",
      "Data Augment:  95%|█████████▌| 41/43 [00:10<00:00,  3.59class/s]\u001b[A\n",
      "Data Augment:  98%|█████████▊| 42/43 [00:10<00:00,  3.52class/s]\u001b[A\n",
      "Data Augment: 100%|██████████| 43/43 [00:11<00:00,  3.48class/s]\u001b[A\n",
      "\u001b[A"
     ]
    }
   ],
   "source": [
    "# generate training data with 5000 images per class\n",
    "from time import sleep\n",
    "print('Training dataset augmentation')\n",
    "sleep(1)\n",
    "#X_train_given, y_train_given, X_train_pert, y_train_pert = perturb_data(X_train, y_train)\n",
    "X_train_given, y_train_given, X_train_pert, y_train_pert = split_change_data(X_train, y_train)\n",
    "X_train_fake, y_train_fake = augment_data(X_train, y_train, n=5000)\n",
    "del X_train, y_train"
   ]
  },
  {
   "cell_type": "code",
   "execution_count": 28,
   "metadata": {},
   "outputs": [
    {
     "name": "stdout",
     "output_type": "stream",
     "text": [
      "Preparing training data...\n"
     ]
    },
    {
     "name": "stderr",
     "output_type": "stream",
     "text": [
      "\n",
      "  0%|          | 0/215000 [00:00<?, ?images/s]\u001b[A\n",
      "  0%|          | 334/215000 [00:00<01:04, 3317.93images/s]\u001b[A\n",
      "  0%|          | 699/215000 [00:00<01:03, 3376.71images/s]\u001b[A\n",
      "  1%|          | 1165/215000 [00:00<00:58, 3631.92images/s]\u001b[A\n",
      "  1%|          | 1421/215000 [00:00<01:20, 2641.17images/s]\u001b[A\n",
      "  1%|          | 1648/215000 [00:00<01:26, 2475.50images/s]\u001b[A\n",
      "  1%|          | 1946/215000 [00:00<01:22, 2598.09images/s]\u001b[A\n",
      "  1%|          | 2191/215000 [00:00<02:09, 1648.44images/s]\u001b[A\n",
      "  1%|▏         | 2713/215000 [00:01<01:42, 2073.88images/s]\u001b[A\n",
      "  1%|▏         | 3197/215000 [00:01<01:24, 2496.15images/s]\u001b[A\n",
      "  2%|▏         | 3685/215000 [00:01<01:12, 2924.23images/s]\u001b[A\n",
      "  2%|▏         | 4188/215000 [00:01<01:03, 3343.73images/s]\u001b[A\n",
      "  2%|▏         | 4710/215000 [00:01<00:56, 3747.47images/s]\u001b[A\n",
      "  2%|▏         | 5206/215000 [00:01<00:51, 4042.75images/s]\u001b[A\n",
      "  3%|▎         | 5710/215000 [00:01<00:48, 4296.77images/s]\u001b[A\n",
      "  3%|▎         | 6219/215000 [00:01<00:46, 4503.66images/s]\u001b[A\n",
      "  3%|▎         | 6734/215000 [00:01<00:44, 4656.35images/s]\u001b[A\n",
      "  3%|▎         | 7227/215000 [00:02<00:56, 3660.25images/s]\u001b[A\n",
      "  4%|▎         | 7721/215000 [00:02<00:52, 3967.76images/s]\u001b[A\n",
      "  4%|▍         | 8218/215000 [00:02<00:48, 4222.10images/s]\u001b[A\n",
      "  4%|▍         | 8676/215000 [00:02<00:51, 3970.44images/s]\u001b[A\n",
      "  4%|▍         | 9101/215000 [00:02<00:54, 3767.73images/s]\u001b[A\n",
      "  4%|▍         | 9500/215000 [00:02<01:48, 1893.80images/s]\u001b[A\n",
      "  5%|▍         | 9806/215000 [00:03<01:36, 2136.09images/s]\u001b[A\n",
      "  5%|▍         | 10296/215000 [00:03<01:20, 2553.27images/s]\u001b[A\n",
      "  5%|▍         | 10696/215000 [00:03<01:11, 2854.99images/s]\u001b[A\n",
      "  5%|▌         | 11063/215000 [00:03<01:13, 2765.75images/s]\u001b[A\n",
      "  5%|▌         | 11401/215000 [00:03<01:09, 2925.15images/s]\u001b[A\n",
      "  5%|▌         | 11736/215000 [00:03<01:13, 2754.73images/s]\u001b[A\n",
      "  6%|▌         | 12044/215000 [00:03<01:11, 2833.13images/s]\u001b[A\n",
      "  6%|▌         | 12535/215000 [00:03<01:03, 3195.00images/s]\u001b[A\n",
      "  6%|▌         | 12886/215000 [00:04<01:14, 2713.70images/s]\u001b[A\n",
      "  6%|▌         | 13314/215000 [00:04<01:06, 3047.80images/s]\u001b[A\n",
      "  6%|▋         | 13815/215000 [00:04<00:58, 3453.43images/s]\u001b[A\n",
      "  7%|▋         | 14282/215000 [00:04<00:54, 3706.43images/s]\u001b[A\n",
      "100%|██████████| 215000/215000 [00:49<00:00, 4305.66images/s]\n"
     ]
    },
    {
     "name": "stdout",
     "output_type": "stream",
     "text": [
      "Done\n",
      "Preparing validation data...\n"
     ]
    },
    {
     "name": "stderr",
     "output_type": "stream",
     "text": [
      "100%|██████████| 4410/4410 [00:00<00:00, 5409.92images/s]\n"
     ]
    },
    {
     "name": "stdout",
     "output_type": "stream",
     "text": [
      "Done\n",
      "Preparing test data...\n"
     ]
    },
    {
     "name": "stderr",
     "output_type": "stream",
     "text": [
      "100%|██████████| 12630/12630 [00:04<00:00, 2593.64images/s]\n"
     ]
    }
   ],
   "source": [
    "from sklearn.utils import shuffle\n",
    "from time import sleep \n",
    "\n",
    "# combine training data, shuffle and apply pre-processing \n",
    "print('Preparing training data...')\n",
    "X_train = np.concatenate((X_train_given, X_train_pert, X_train_fake))\n",
    "y_train = np.concatenate((y_train_given, y_train_pert, y_train_fake))\n",
    "X_train, y_train = shuffle(X_train, y_train)\n",
    "del X_train_given, X_train_pert, X_train_fake, \\\n",
    "    y_train_given, y_train_pert, y_train_fake # free memory \n",
    "sleep(1)\n",
    "images_pbar = tqdm(X_train, unit='images')\n",
    "X_train = np.zeros(X_train.shape)\n",
    "for i,img in enumerate(images_pbar) : \n",
    "    X_train[i] = contrast_norm(img) \n",
    "print('Done')\n",
    "\n",
    "# combine validation data, shuffle and apply pre-processing \n",
    "print('Preparing validation data...')\n",
    "#X_validation, y_validation = shuffle(X_validation, y_validation)\n",
    "X_validation, y_validation = shuffle(X_valid, y_valid)\n",
    "sleep(1)\n",
    "images_pbar = tqdm(X_validation, unit='images')\n",
    "X_validation = np.zeros(X_validation.shape)\n",
    "\n",
    "for i,img in enumerate(images_pbar) : \n",
    "    X_validation[i] = contrast_norm(img) \n",
    "print('Done')\n",
    "    \n",
    "# pre-process test set images\n",
    "print('Preparing test data...')\n",
    "sleep(1)\n",
    "images_pbar = tqdm(X_test, unit='images')\n",
    "X_test = np.zeros(X_test.shape)\n",
    "for i,img in enumerate(images_pbar) : \n",
    "    X_test[i] = contrast_norm(img) \n",
    "sleep(1)"
   ]
  },
  {
   "cell_type": "markdown",
   "metadata": {},
   "source": [
    "### Model Architecture"
   ]
  },
  {
   "cell_type": "code",
   "execution_count": 31,
   "metadata": {
    "collapsed": true
   },
   "outputs": [],
   "source": [
    "### Define your architecture here.\n",
    "### Feel free to use as many code cells as needed.\n",
    "import tensorflow as tf\n",
    "from tensorflow.contrib.layers import flatten\n",
    "\n",
    "keep_prob = tf.placeholder(tf.float32) # for fully-connected layers\n",
    "keep_prob_conv = tf.placeholder(tf.float32) # for convolutional layers\n",
    "x = tf.placeholder(tf.float32, (None, 32, 32, 3))\n",
    "y = tf.placeholder(tf.int32, (None))\n",
    "\n",
    "class LeNet(object):\n",
    "    def __init__(self, n_out=43, mu=0, sigma=0.1, learning_rate=0.0007):\n",
    "        self.mu = mu\n",
    "        self.sigma = sigma\n",
    " \n",
    "        # Layer 1: Convolutional. Input = 32x32x3. Output = 32x32x32\n",
    "        self.conv1_W = tf.Variable(tf.truncated_normal(shape=(3, 3, 3, 32), mean = self.mu, stddev = self.sigma))\n",
    "        self.conv1_b = tf.Variable(tf.zeros(32))\n",
    "        self.conv1   = tf.nn.conv2d(x, self.conv1_W, strides=[1, 1, 1, 1], padding='SAME') + self.conv1_b\n",
    "\n",
    "        # Relu \n",
    "        self.conv1 = tf.nn.relu(self.conv1)\n",
    "\n",
    "        # Pooling. Input = 32x32x32. Output = 16x16x32\n",
    "        self.conv1 = tf.nn.max_pool(self.conv1, ksize=[1, 2, 2, 1], strides=[1, 2, 2, 1], padding='VALID')\n",
    "        self.conv1 = tf.nn.dropout(self.conv1, keep_prob_conv) # dropout\n",
    "\n",
    "        # Layer 2: Convolutional. Input = 16x16x32. Output = 16x16x128\n",
    "        self.conv2_W = tf.Variable(tf.truncated_normal(shape=(3, 3, 32, 128), mean = self.mu, stddev = self.sigma))\n",
    "        self.conv2_b = tf.Variable(tf.zeros(128))\n",
    "        self.conv2   = tf.nn.conv2d(self.conv1, self.conv2_W, strides=[1, 1, 1, 1], padding='SAME') + self.conv2_b\n",
    "\n",
    "        # Relu\n",
    "        self.conv2 = tf.nn.relu(self.conv2)\n",
    "\n",
    "        # Pooling. Input = 16x16x128. Output = 4x4x128\n",
    "        self.conv2 = tf.nn.max_pool(self.conv2, ksize=[1, 4, 4, 1], strides=[1, 4, 4, 1], padding='VALID')\n",
    "\n",
    "        # Flatten. Input = 4x4x128. Output = 2048\n",
    "        self.fc0   = flatten(self.conv2)\n",
    "\n",
    "        # Layer 3: Fully Connected. Input = 2048 Output = 128\n",
    "        self.fc1_W = tf.Variable(tf.truncated_normal(shape=(2048, 128), mean = self.mu, stddev = self.sigma))\n",
    "        self.fc1_b = tf.Variable(tf.zeros(128))\n",
    "        self.fc1   = tf.matmul(self.fc0, self.fc1_W) + self.fc1_b\n",
    "\n",
    "        # Relu\n",
    "        self.fc1    = tf.nn.relu(self.fc1)\n",
    "        self.fc1    = tf.nn.dropout(self.fc1, keep_prob) # dropout\n",
    "\n",
    "        # Layer 4: Fully Connected. Input = 128. Output = 128\n",
    "        self.fc2_W  = tf.Variable(tf.truncated_normal(shape=(128, 128), mean = self.mu, stddev = self.sigma))\n",
    "        self.fc2_b  = tf.Variable(tf.zeros(128))\n",
    "        self.fc2    = tf.matmul(self.fc1, self.fc2_W) + self.fc2_b\n",
    "\n",
    "        # Relu\n",
    "        self.fc2    = tf.nn.relu(self.fc2)\n",
    "        self.fc2    = tf.nn.dropout(self.fc2, keep_prob) # dropout\n",
    "\n",
    "        # Layer 5: Fully Connected. Input = 64 Output = n_out\n",
    "        self.fc3_W  = tf.Variable(tf.truncated_normal(shape=(128, n_out), mean = self.mu, stddev = self.sigma))\n",
    "        self.fc3_b  = tf.Variable(tf.zeros(n_out))\n",
    "        self.logits = tf.matmul(self.fc2, self.fc3_W) + self.fc3_b\n",
    "\n",
    "        # training operation\n",
    "        self.one_hot_y = tf.one_hot(y, n_out)\n",
    "        self.cross_entropy = tf.nn.softmax_cross_entropy_with_logits(self.logits, self.one_hot_y)\n",
    "        self.loss_operation = tf.reduce_mean(self.cross_entropy)\n",
    "        self.optimizer = tf.train.AdamOptimizer(learning_rate = learning_rate)\n",
    "        self.training_operation = self.optimizer.minimize(self.loss_operation)\n",
    "\n",
    "        # accuracy \n",
    "        self.correct_prediction = tf.equal(tf.argmax(self.logits, 1), tf.argmax(self.one_hot_y, 1))\n",
    "        self.accuracy_operation = tf.reduce_mean(tf.cast(self.correct_prediction, tf.float32))\n",
    "\n",
    "        # save all variables\n",
    "        self.saver = tf.train.Saver()\n",
    "    \n",
    "    def y_predict(self, X_data, BATCH_SIZE=64) :\n",
    "        n_examples = len(X_data)\n",
    "        y_pred = np.zeros(n_examples, dtype=np.int32)\n",
    "        sess = tf.get_default_session()\n",
    "        for offset in range(0, n_examples, BATCH_SIZE):\n",
    "            batch_x = X_data[offset:offset+BATCH_SIZE]\n",
    "            y_pred[offset:offset+BATCH_SIZE] = sess.run(tf.argmax(self.logits, 1), \n",
    "                               feed_dict={x:batch_x, keep_prob:1, keep_prob_conv:1})\n",
    "        return y_pred\n",
    "    \n",
    "    def evaluate(self, X_data, y_data, BATCH_SIZE=64):\n",
    "        n_examples = len(X_data)\n",
    "        tot_accuracy = 0\n",
    "        sess = tf.get_default_session()\n",
    "        for offset in range(0, n_examples, BATCH_SIZE):\n",
    "            batch_x, batch_y = X_data[offset:offset+BATCH_SIZE], y_data[offset:offset+BATCH_SIZE]\n",
    "            accuracy = sess.run(self.accuracy_operation, \n",
    "                                feed_dict={x: batch_x, y: batch_y, keep_prob: 1.0, keep_prob_conv: 1.0 })\n",
    "            tot_accuracy += (accuracy * len(batch_x))\n",
    "        return tot_accuracy / n_examples"
   ]
  },
  {
   "cell_type": "markdown",
   "metadata": {},
   "source": [
    "### Train, Validate and Test the Model"
   ]
  },
  {
   "cell_type": "markdown",
   "metadata": {},
   "source": [
    "A validation set can be used to assess how well the model is performing. A low accuracy on the training and validation\n",
    "sets imply underfitting. A high accuracy on the training set but low accuracy on the validation set implies overfitting."
   ]
  },
  {
   "cell_type": "code",
   "execution_count": 29,
   "metadata": {},
   "outputs": [
    {
     "name": "stdout",
     "output_type": "stream",
     "text": [
      "Training...\n",
      "\n",
      "EPOCH 1 : Validation Accuracy = 0.403\n",
      "EPOCH 2 : Validation Accuracy = 0.672\n",
      "EPOCH 3 : Validation Accuracy = 0.769\n",
      "EPOCH 4 : Validation Accuracy = 0.865\n",
      "EPOCH 5 : Validation Accuracy = 0.901\n",
      "EPOCH 6 : Validation Accuracy = 0.929\n",
      "EPOCH 7 : Validation Accuracy = 0.944\n",
      "EPOCH 8 : Validation Accuracy = 0.959\n",
      "EPOCH 9 : Validation Accuracy = 0.973\n",
      "EPOCH 10 : Validation Accuracy = 0.969\n",
      "EPOCH 11 : Validation Accuracy = 0.966\n",
      "EPOCH 12 : Validation Accuracy = 0.977\n",
      "EPOCH 13 : Validation Accuracy = 0.970\n",
      "EPOCH 14 : Validation Accuracy = 0.975\n",
      "EPOCH 15 : Validation Accuracy = 0.975\n",
      "EPOCH 16 : Validation Accuracy = 0.976\n",
      "EPOCH 17 : Validation Accuracy = 0.974\n",
      "EPOCH 18 : Validation Accuracy = 0.972\n",
      "EPOCH 19 : Validation Accuracy = 0.974\n",
      "EPOCH 20 : Validation Accuracy = 0.974\n",
      "EPOCH 21 : Validation Accuracy = 0.980\n",
      "EPOCH 22 : Validation Accuracy = 0.980\n",
      "EPOCH 23 : Validation Accuracy = 0.974\n",
      "EPOCH 24 : Validation Accuracy = 0.972\n",
      "EPOCH 25 : Validation Accuracy = 0.973\n",
      "EPOCH 26 : Validation Accuracy = 0.983\n",
      "EPOCH 27 : Validation Accuracy = 0.978\n",
      "EPOCH 28 : Validation Accuracy = 0.977\n",
      "EPOCH 29 : Validation Accuracy = 0.975\n",
      "EPOCH 30 : Validation Accuracy = 0.980\n",
      "Model saved\n"
     ]
    }
   ],
   "source": [
    "### Train your model here.\n",
    "### Calculate and report the accuracy on the training and validation set.\n",
    "### Once a final model architecture is selected, \n",
    "### the accuracy on the test set should be calculated and reported as well.\n",
    "### Feel free to use as many code cells as needed.\n",
    "# train model 1\n",
    "EPOCHS = 30\n",
    "BATCH_SIZE = 64\n",
    "mod_1 = LeNet(n_out = n_classes)\n",
    "model_name = \"mod_1\"\n",
    "\n",
    "\n",
    "with tf.Session() as sess:\n",
    "    sess.run(tf.global_variables_initializer())\n",
    "    n_examples = len(y_train)\n",
    "    print(\"Training...\")\n",
    "    print()\n",
    "    for i in range(EPOCHS):\n",
    "        X_train, y_train = shuffle(X_train, y_train)\n",
    "        for offset in range(0, n_examples, BATCH_SIZE):\n",
    "            end = offset + BATCH_SIZE\n",
    "            batch_x, batch_y = X_train[offset:end], y_train[offset:end]\n",
    "            sess.run(mod_1.training_operation, \n",
    "            feed_dict={x: batch_x, y: batch_y, keep_prob : 0.5, keep_prob_conv: 0.7})\n",
    "\n",
    "        validation_accuracy = mod_1.evaluate(X_validation, y_validation)\n",
    "        print(\"EPOCH {} : Validation Accuracy = {:.3f}\".format(i+1, validation_accuracy))\n",
    "\n",
    "    mod_1.saver.save(sess, './mod_1')\n",
    "    print(\"Model saved\")"
   ]
  },
  {
   "cell_type": "code",
   "execution_count": 32,
   "metadata": {},
   "outputs": [
    {
     "name": "stdout",
     "output_type": "stream",
     "text": [
      "Test Accuracy = 0.037\n"
     ]
    }
   ],
   "source": [
    "# test model 1\n",
    "\n",
    "with tf.Session() as sess:\n",
    "    mod_1.saver.restore(sess, tf.train.latest_checkpoint('model/.'))\n",
    "    y_pred = mod_1.y_predict(X_test)\n",
    "    test_accuracy = sum(y_test == y_pred)/len(y_test)\n",
    "    print(\"Test Accuracy = {:.3f}\".format(test_accuracy))"
   ]
  },
  {
   "cell_type": "markdown",
   "metadata": {},
   "source": [
    "---\n",
    "\n",
    "## Step 3: Test a Model on New Images\n",
    "\n",
    "To give yourself more insight into how your model is working, download at least five pictures of German traffic signs from the web and use your model to predict the traffic sign type.\n",
    "\n",
    "You may find `signnames.csv` useful as it contains mappings from the class id (integer) to the actual sign name."
   ]
  },
  {
   "cell_type": "markdown",
   "metadata": {},
   "source": [
    "### Load and Output the Images"
   ]
  },
  {
   "cell_type": "code",
   "execution_count": null,
   "metadata": {
    "collapsed": true
   },
   "outputs": [],
   "source": [
    "### Load the images and plot them here.\n",
    "### Feel free to use as many code cells as needed."
   ]
  },
  {
   "cell_type": "markdown",
   "metadata": {},
   "source": [
    "### Predict the Sign Type for Each Image"
   ]
  },
  {
   "cell_type": "code",
   "execution_count": 3,
   "metadata": {
    "collapsed": true
   },
   "outputs": [],
   "source": [
    "### Run the predictions here and use the model to output the prediction for each image.\n",
    "### Make sure to pre-process the images with the same pre-processing pipeline used earlier.\n",
    "### Feel free to use as many code cells as needed."
   ]
  },
  {
   "cell_type": "markdown",
   "metadata": {},
   "source": [
    "### Analyze Performance"
   ]
  },
  {
   "cell_type": "code",
   "execution_count": 4,
   "metadata": {
    "collapsed": true
   },
   "outputs": [],
   "source": [
    "### Calculate the accuracy for these 5 new images. \n",
    "### For example, if the model predicted 1 out of 5 signs correctly, it's 20% accurate on these new images."
   ]
  },
  {
   "cell_type": "markdown",
   "metadata": {},
   "source": [
    "### Output Top 5 Softmax Probabilities For Each Image Found on the Web"
   ]
  },
  {
   "cell_type": "markdown",
   "metadata": {},
   "source": [
    "For each of the new images, print out the model's softmax probabilities to show the **certainty** of the model's predictions (limit the output to the top 5 probabilities for each image). [`tf.nn.top_k`](https://www.tensorflow.org/versions/r0.12/api_docs/python/nn.html#top_k) could prove helpful here. \n",
    "\n",
    "The example below demonstrates how tf.nn.top_k can be used to find the top k predictions for each image.\n",
    "\n",
    "`tf.nn.top_k` will return the values and indices (class ids) of the top k predictions. So if k=3, for each sign, it'll return the 3 largest probabilities (out of a possible 43) and the correspoding class ids.\n",
    "\n",
    "Take this numpy array as an example. The values in the array represent predictions. The array contains softmax probabilities for five candidate images with six possible classes. `tk.nn.top_k` is used to choose the three classes with the highest probability:\n",
    "\n",
    "```\n",
    "# (5, 6) array\n",
    "a = np.array([[ 0.24879643,  0.07032244,  0.12641572,  0.34763842,  0.07893497,\n",
    "         0.12789202],\n",
    "       [ 0.28086119,  0.27569815,  0.08594638,  0.0178669 ,  0.18063401,\n",
    "         0.15899337],\n",
    "       [ 0.26076848,  0.23664738,  0.08020603,  0.07001922,  0.1134371 ,\n",
    "         0.23892179],\n",
    "       [ 0.11943333,  0.29198961,  0.02605103,  0.26234032,  0.1351348 ,\n",
    "         0.16505091],\n",
    "       [ 0.09561176,  0.34396535,  0.0643941 ,  0.16240774,  0.24206137,\n",
    "         0.09155967]])\n",
    "```\n",
    "\n",
    "Running it through `sess.run(tf.nn.top_k(tf.constant(a), k=3))` produces:\n",
    "\n",
    "```\n",
    "TopKV2(values=array([[ 0.34763842,  0.24879643,  0.12789202],\n",
    "       [ 0.28086119,  0.27569815,  0.18063401],\n",
    "       [ 0.26076848,  0.23892179,  0.23664738],\n",
    "       [ 0.29198961,  0.26234032,  0.16505091],\n",
    "       [ 0.34396535,  0.24206137,  0.16240774]]), indices=array([[3, 0, 5],\n",
    "       [0, 1, 4],\n",
    "       [0, 5, 1],\n",
    "       [1, 3, 5],\n",
    "       [1, 4, 3]], dtype=int32))\n",
    "```\n",
    "\n",
    "Looking just at the first row we get `[ 0.34763842,  0.24879643,  0.12789202]`, you can confirm these are the 3 largest probabilities in `a`. You'll also notice `[3, 0, 5]` are the corresponding indices."
   ]
  },
  {
   "cell_type": "code",
   "execution_count": 3,
   "metadata": {
    "collapsed": true
   },
   "outputs": [],
   "source": [
    "### Print out the top five softmax probabilities for the predictions on the German traffic sign images found on the web. \n",
    "### Feel free to use as many code cells as needed."
   ]
  },
  {
   "cell_type": "markdown",
   "metadata": {},
   "source": [
    "### Project Writeup\n",
    "\n",
    "Once you have completed the code implementation, document your results in a project writeup using this [template](https://github.com/udacity/CarND-Traffic-Sign-Classifier-Project/blob/master/writeup_template.md) as a guide. The writeup can be in a markdown or pdf file. "
   ]
  },
  {
   "cell_type": "markdown",
   "metadata": {},
   "source": [
    "> **Note**: Once you have completed all of the code implementations and successfully answered each question above, you may finalize your work by exporting the iPython Notebook as an HTML document. You can do this by using the menu above and navigating to  \\n\",\n",
    "    \"**File -> Download as -> HTML (.html)**. Include the finished document along with this notebook as your submission."
   ]
  },
  {
   "cell_type": "markdown",
   "metadata": {},
   "source": [
    "---\n",
    "\n",
    "## Step 4 (Optional): Visualize the Neural Network's State with Test Images\n",
    "\n",
    " This Section is not required to complete but acts as an additional excersise for understaning the output of a neural network's weights. While neural networks can be a great learning device they are often referred to as a black box. We can understand what the weights of a neural network look like better by plotting their feature maps. After successfully training your neural network you can see what it's feature maps look like by plotting the output of the network's weight layers in response to a test stimuli image. From these plotted feature maps, it's possible to see what characteristics of an image the network finds interesting. For a sign, maybe the inner network feature maps react with high activation to the sign's boundary outline or to the contrast in the sign's painted symbol.\n",
    "\n",
    " Provided for you below is the function code that allows you to get the visualization output of any tensorflow weight layer you want. The inputs to the function should be a stimuli image, one used during training or a new one you provided, and then the tensorflow variable name that represents the layer's state during the training process, for instance if you wanted to see what the [LeNet lab's](https://classroom.udacity.com/nanodegrees/nd013/parts/fbf77062-5703-404e-b60c-95b78b2f3f9e/modules/6df7ae49-c61c-4bb2-a23e-6527e69209ec/lessons/601ae704-1035-4287-8b11-e2c2716217ad/concepts/d4aca031-508f-4e0b-b493-e7b706120f81) feature maps looked like for it's second convolutional layer you could enter conv2 as the tf_activation variable.\n",
    "\n",
    "For an example of what feature map outputs look like, check out NVIDIA's results in their paper [End-to-End Deep Learning for Self-Driving Cars](https://devblogs.nvidia.com/parallelforall/deep-learning-self-driving-cars/) in the section Visualization of internal CNN State. NVIDIA was able to show that their network's inner weights had high activations to road boundary lines by comparing feature maps from an image with a clear path to one without. Try experimenting with a similar test to show that your trained network's weights are looking for interesting features, whether it's looking at differences in feature maps from images with or without a sign, or even what feature maps look like in a trained network vs a completely untrained one on the same sign image.\n",
    "\n",
    "<figure>\n",
    " <img src=\"visualize_cnn.png\" width=\"380\" alt=\"Combined Image\" />\n",
    " <figcaption>\n",
    " <p></p> \n",
    " <p style=\"text-align: center;\"> Your output should look something like this (above)</p> \n",
    " </figcaption>\n",
    "</figure>\n",
    " <p></p> \n"
   ]
  },
  {
   "cell_type": "code",
   "execution_count": null,
   "metadata": {
    "collapsed": true
   },
   "outputs": [],
   "source": [
    "### Visualize your network's feature maps here.\n",
    "### Feel free to use as many code cells as needed.\n",
    "\n",
    "# image_input: the test image being fed into the network to produce the feature maps\n",
    "# tf_activation: should be a tf variable name used during your training procedure that represents the calculated state of a specific weight layer\n",
    "# activation_min/max: can be used to view the activation contrast in more detail, by default matplot sets min and max to the actual min and max values of the output\n",
    "# plt_num: used to plot out multiple different weight feature map sets on the same block, just extend the plt number for each new feature map entry\n",
    "\n",
    "def outputFeatureMap(image_input, tf_activation, activation_min=-1, activation_max=-1 ,plt_num=1):\n",
    "    # Here make sure to preprocess your image_input in a way your network expects\n",
    "    # with size, normalization, ect if needed\n",
    "    # image_input =\n",
    "    # Note: x should be the same name as your network's tensorflow data placeholder variable\n",
    "    # If you get an error tf_activation is not defined it may be having trouble accessing the variable from inside a function\n",
    "    activation = tf_activation.eval(session=sess,feed_dict={x : image_input})\n",
    "    featuremaps = activation.shape[3]\n",
    "    plt.figure(plt_num, figsize=(15,15))\n",
    "    for featuremap in range(featuremaps):\n",
    "        plt.subplot(6,8, featuremap+1) # sets the number of feature maps to show on each row and column\n",
    "        plt.title('FeatureMap ' + str(featuremap)) # displays the feature map number\n",
    "        if activation_min != -1 & activation_max != -1:\n",
    "            plt.imshow(activation[0,:,:, featuremap], interpolation=\"nearest\", vmin =activation_min, vmax=activation_max, cmap=\"gray\")\n",
    "        elif activation_max != -1:\n",
    "            plt.imshow(activation[0,:,:, featuremap], interpolation=\"nearest\", vmax=activation_max, cmap=\"gray\")\n",
    "        elif activation_min !=-1:\n",
    "            plt.imshow(activation[0,:,:, featuremap], interpolation=\"nearest\", vmin=activation_min, cmap=\"gray\")\n",
    "        else:\n",
    "            plt.imshow(activation[0,:,:, featuremap], interpolation=\"nearest\", cmap=\"gray\")"
   ]
  }
 ],
 "metadata": {
  "anaconda-cloud": {},
  "kernelspec": {
   "display_name": "Python 3",
   "language": "python",
   "name": "python3"
  },
  "language_info": {
   "codemirror_mode": {
    "name": "ipython",
    "version": 3
   },
   "file_extension": ".py",
   "mimetype": "text/x-python",
   "name": "python",
   "nbconvert_exporter": "python",
   "pygments_lexer": "ipython3",
   "version": "3.5.2"
  },
  "widgets": {
   "state": {},
   "version": "1.1.2"
  }
 },
 "nbformat": 4,
 "nbformat_minor": 1
}
